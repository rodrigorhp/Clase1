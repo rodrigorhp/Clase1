{
  "nbformat": 4,
  "nbformat_minor": 0,
  "metadata": {
    "colab": {
      "name": "01Clase.ipynb",
      "provenance": [],
      "authorship_tag": "ABX9TyM2WurN2bi3mTqoSpJRpuxN",
      "include_colab_link": true
    },
    "kernelspec": {
      "name": "python3",
      "display_name": "Python 3"
    },
    "language_info": {
      "name": "python"
    }
  },
  "cells": [
    {
      "cell_type": "markdown",
      "metadata": {
        "id": "view-in-github",
        "colab_type": "text"
      },
      "source": [
        "<a href=\"https://colab.research.google.com/github/rodrigorhp/Clase1/blob/Testing_Branch/01Clase.ipynb\" target=\"_parent\"><img src=\"https://colab.research.google.com/assets/colab-badge.svg\" alt=\"Open In Colab\"/></a>"
      ]
    },
    {
      "cell_type": "code",
      "execution_count": null,
      "metadata": {
        "id": "OrKG51ngJzc2",
        "outputId": "4d9b0d61-1586-403a-e4cc-fa56f62b3eb1",
        "colab": {
          "base_uri": "https://localhost:8080/"
        }
      },
      "outputs": [
        {
          "output_type": "stream",
          "name": "stdout",
          "text": [
            "Primer Mensaje\n"
          ]
        }
      ],
      "source": [
        "print('Primer Mensaje')"
      ]
    },
    {
      "cell_type": "code",
      "source": [
        "print('Estoy  modificando en el branch 1')"
      ],
      "metadata": {
        "id": "dOc1gpOsMIQI",
        "outputId": "70b91922-c756-4eb1-f777-e47483420979",
        "colab": {
          "base_uri": "https://localhost:8080/"
        }
      },
      "execution_count": 2,
      "outputs": [
        {
          "output_type": "stream",
          "name": "stdout",
          "text": [
            "Estoy  modificando en el branch 1\n"
          ]
        }
      ]
    },
    {
      "cell_type": "code",
      "source": [
        ""
      ],
      "metadata": {
        "id": "zXAOZv30NZD9"
      },
      "execution_count": null,
      "outputs": []
    }
  ]
}